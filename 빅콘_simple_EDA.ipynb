{
  "nbformat": 4,
  "nbformat_minor": 0,
  "metadata": {
    "colab": {
      "name": "빅콘_simple_EDA.ipynb",
      "provenance": [],
      "collapsed_sections": [],
      "authorship_tag": "ABX9TyP2Bw1h+LNv9wesDbtbcaPI",
      "include_colab_link": true
    },
    "kernelspec": {
      "name": "python3",
      "display_name": "Python 3"
    }
  },
  "cells": [
    {
      "cell_type": "markdown",
      "metadata": {
        "id": "view-in-github",
        "colab_type": "text"
      },
      "source": [
        "<a href=\"https://colab.research.google.com/github/100jy/EDA/blob/master/%EB%B9%85%EC%BD%98_simple_EDA.ipynb\" target=\"_parent\"><img src=\"https://colab.research.google.com/assets/colab-badge.svg\" alt=\"Open In Colab\"/></a>"
      ]
    },
    {
      "cell_type": "code",
      "metadata": {
        "id": "nkFGjrVbACHJ",
        "colab_type": "code",
        "colab": {
          "base_uri": "https://localhost:8080/",
          "height": 36
        },
        "outputId": "d53cbfb8-3774-4e67-d60a-0bf042b0e929"
      },
      "source": [
        "#구글 드라이브 연동\n",
        "from google.colab import drive\n",
        "drive.mount('/content/drive')"
      ],
      "execution_count": 91,
      "outputs": [
        {
          "output_type": "stream",
          "text": [
            "Drive already mounted at /content/drive; to attempt to forcibly remount, call drive.mount(\"/content/drive\", force_remount=True).\n"
          ],
          "name": "stdout"
        }
      ]
    },
    {
      "cell_type": "code",
      "metadata": {
        "id": "-0LsWRpgAidE",
        "colab_type": "code",
        "colab": {
          "base_uri": "https://localhost:8080/",
          "height": 36
        },
        "outputId": "e46faca5-7e8f-41d4-ce50-2c705f2f730c"
      },
      "source": [
        "cd \"/content/drive/My Drive/bigcon\""
      ],
      "execution_count": 126,
      "outputs": [
        {
          "output_type": "stream",
          "text": [
            "/content/drive/My Drive/bigcon\n"
          ],
          "name": "stdout"
        }
      ]
    },
    {
      "cell_type": "code",
      "metadata": {
        "id": "pN_6aWM8CJ_8",
        "colab_type": "code",
        "colab": {}
      },
      "source": [
        "!unzip -q data.zip -d /data"
      ],
      "execution_count": null,
      "outputs": []
    },
    {
      "cell_type": "code",
      "metadata": {
        "id": "LKG-lRGpDmcV",
        "colab_type": "code",
        "colab": {
          "base_uri": "https://localhost:8080/",
          "height": 36
        },
        "outputId": "cb3036f0-080a-4130-af8a-328d90c05a42"
      },
      "source": [
        "cd '/data'"
      ],
      "execution_count": 128,
      "outputs": [
        {
          "output_type": "stream",
          "text": [
            "/data\n"
          ],
          "name": "stdout"
        }
      ]
    },
    {
      "cell_type": "code",
      "metadata": {
        "id": "gtgtcTORDqvM",
        "colab_type": "code",
        "colab": {
          "base_uri": "https://localhost:8080/",
          "height": 73
        },
        "outputId": "47e24836-4611-4305-8c69-d71e8d8dc336"
      },
      "source": [
        "ls"
      ],
      "execution_count": 7,
      "outputs": [
        {
          "output_type": "stream",
          "text": [
            "\u001b[0m\u001b[01;34m'01_유동인구데이터(SK텔레콤)'\u001b[0m/  \u001b[01;34m'04_유통데이터(GS리테일)'\u001b[0m/\n",
            "\u001b[01;34m'02_카드매출데이터(신한카드)'\u001b[0m/  \u001b[01;34m'05_물류데이터(CJ올리브네트웍스)'\u001b[0m/\n",
            "\u001b[01;34m'03_SNS데이터(와이즈넛)'\u001b[0m/\n"
          ],
          "name": "stdout"
        }
      ]
    },
    {
      "cell_type": "code",
      "metadata": {
        "id": "LcQ82on9DwOL",
        "colab_type": "code",
        "colab": {}
      },
      "source": [
        "import pandas as pd\n",
        "import numpy as np\n",
        "from glob import glob"
      ],
      "execution_count": 92,
      "outputs": []
    },
    {
      "cell_type": "markdown",
      "metadata": {
        "id": "JeFPNJYM_QIK",
        "colab_type": "text"
      },
      "source": [
        "# 유동인구 데이터"
      ]
    },
    {
      "cell_type": "markdown",
      "metadata": {
        "id": "5VZJDmVEPHIF",
        "colab_type": "text"
      },
      "source": [
        "## 19년도"
      ]
    },
    {
      "cell_type": "code",
      "metadata": {
        "id": "FSelJTsoD8EV",
        "colab_type": "code",
        "colab": {}
      },
      "source": [
        "nine_time = glob('./01_유동인구데이터(SK텔레콤)/*TIME*2019*.CSV')\n",
        "nine_time.sort()\n",
        "\n",
        "nine_age = glob('./01_유동인구데이터(SK텔레콤)/*AGE*2019*.CSV')\n",
        "nine_age.sort()\n",
        "\n",
        "# 19년도 날짜순으로 V-stacking\n",
        "nine_time_merge = pd.read_csv(nine_time[0],sep = '|')\n",
        "for i in  nine_time[1:]:\n",
        "  new = pd.read_csv(i,sep = '|')\n",
        "  nine_time_merge = pd.concat([nine_time_merge,new])\n",
        "\n",
        "nine_age_merge = pd.read_csv(nine_age[0],sep = '|')\n",
        "for i in  nine_age[1:]:\n",
        "  new = pd.read_csv(i,sep = '|')\n",
        "  nine_age_merge = pd.concat([nine_age_merge,new])\n",
        "\n",
        "## 같은 날짜 같은 지역 H-stacking \n",
        "nine_merged = pd.merge(nine_time_merge,nine_age_merge, on = ['HDONG_NM','STD_YMD'])\n",
        "\n",
        "nine_merged.head()\n",
        "#print(nine_merged.shape,nine_time_merge.shape,nine_age_merge.shape)\n",
        "nine_merged.to_csv(\"/content/drive/My Drive/bigcon/nine_merged.csv\",encoding='euc-kr')"
      ],
      "execution_count": 40,
      "outputs": []
    },
    {
      "cell_type": "markdown",
      "metadata": {
        "id": "uOxz3ubadKOK",
        "colab_type": "text"
      },
      "source": [
        "## 20년도"
      ]
    },
    {
      "cell_type": "code",
      "metadata": {
        "id": "KOMieKOgPD6y",
        "colab_type": "code",
        "colab": {}
      },
      "source": [
        "two_time = glob('./01_유동인구데이터(SK텔레콤)/*TIME*2020*.CSV')\n",
        "two_time.sort()\n",
        "\n",
        "two_age = glob('./01_유동인구데이터(SK텔레콤)/*AGE*2020*.CSV')\n",
        "two_age.sort()\n",
        "\n",
        "# 20년도 날짜순으로 V-stacking\n",
        "two_time_merge = pd.read_csv(two_time[0],sep = '|')\n",
        "for i in  two_time[1:]:\n",
        "  new = pd.read_csv(i,sep = '|')\n",
        "  two_time_merge = pd.concat([two_time_merge,new])\n",
        "\n",
        "two_age_merge = pd.read_csv(two_age[0],sep = '|')\n",
        "for i in  two_age[1:]:\n",
        "  new = pd.read_csv(i,sep = '|')\n",
        "  two_age_merge = pd.concat([two_age_merge,new])\n",
        "\n",
        "## 같은 날짜 같은 지역 H-stacking \n",
        "two_merged = pd.merge(two_time_merge,two_age_merge, on = ['HDONG_NM','STD_YMD'])\n",
        "two_merged.to_csv(\"/content/drive/My Drive/bigcon/two_merged.csv\",encoding='euc-kr')"
      ],
      "execution_count": 90,
      "outputs": []
    },
    {
      "cell_type": "markdown",
      "metadata": {
        "id": "iPI_hiZW_VK9",
        "colab_type": "text"
      },
      "source": [
        "# 유통데이터"
      ]
    },
    {
      "cell_type": "code",
      "metadata": {
        "id": "gueB47nX_aOJ",
        "colab_type": "code",
        "colab": {
          "base_uri": "https://localhost:8080/",
          "height": 36
        },
        "outputId": "004a589b-76ac-495c-93c0-e4daeb613c25"
      },
      "source": [
        "retail =  pd.read_excel('/content/drive/My Drive/bigcon/04_혁신아이디어분야_유통데이터(GS리테일)_데이터정의서 및 문제 데이터 1.xlsx')\n",
        "retail.shape"
      ],
      "execution_count": 94,
      "outputs": [
        {
          "output_type": "execute_result",
          "data": {
            "text/plain": [
              "(14460, 13)"
            ]
          },
          "metadata": {
            "tags": []
          },
          "execution_count": 94
        }
      ]
    },
    {
      "cell_type": "code",
      "metadata": {
        "id": "Unoelo30eJwW",
        "colab_type": "code",
        "colab": {}
      },
      "source": [
        "#2019년도\n",
        "#120일치 60개 지역\n",
        "nine_retail = retail.iloc[:120*60]\n",
        "#121일치 60개 지역\n",
        "two_retail = retail.iloc[120*60:]"
      ],
      "execution_count": 113,
      "outputs": []
    },
    {
      "cell_type": "markdown",
      "metadata": {
        "id": "8FDfYsZrdml6",
        "colab_type": "text"
      },
      "source": [
        "## 두 데이터 병합 "
      ]
    },
    {
      "cell_type": "code",
      "metadata": {
        "id": "EZhP3TsZdk-N",
        "colab_type": "code",
        "colab": {}
      },
      "source": [
        "nine_pop = pd.read_csv(\"/content/drive/My Drive/bigcon/nine_merged.csv\",encoding='euc-kr',index_col=0)\n",
        "two_pop = pd.read_csv(\"/content/drive/My Drive/bigcon/two_merged.csv\",encoding='euc-kr',index_col=0)\n",
        "#120일치 69개 지역,121일치 69개 지역 \n",
        "nine_pop.shape,two_pop.shape\n",
        "#60개 지역, 120일치에 대해서만 join\n",
        "nine_pop_retail = pd.merge(nine_pop,nine_retail, left_on =['HDONG_NM','STD_YMD'],right_on=['ADMD','OPER_DT'])\n",
        "nine_pop_retail.to_csv(\"/content/drive/My Drive/bigcon/nine_pop_retail.csv\")"
      ],
      "execution_count": 125,
      "outputs": []
    },
    {
      "cell_type": "code",
      "metadata": {
        "id": "T0I1kDk4mQ_Z",
        "colab_type": "code",
        "colab": {}
      },
      "source": [
        "#60개 지역, 121일치에 대해서만 join\n",
        "two_pop_retail = pd.merge(two_pop,two_retail, left_on =['HDONG_NM','STD_YMD'],right_on=['ADMD','OPER_DT'])\n",
        "two_pop_retail.to_csv(\"/content/drive/My Drive/bigcon/two_pop_retail.csv\")"
      ],
      "execution_count": 146,
      "outputs": []
    },
    {
      "cell_type": "markdown",
      "metadata": {
        "id": "jHhHK4U4hLlc",
        "colab_type": "text"
      },
      "source": [
        "# 카드 매출 데이터"
      ]
    },
    {
      "cell_type": "code",
      "metadata": {
        "id": "W8fE0IMrhJMe",
        "colab_type": "code",
        "colab": {}
      },
      "source": [
        "resident = glob('./02_카드매출데이터(신한카드)/CARD_SPENDING_RESIDENT/*')\n",
        "foreigner = glob('./02_카드매출데이터(신한카드)/CARD_SPENDING_FOREIGNER/*')\n",
        "\n",
        "resident_card = pd.read_csv(resident[0],sep = '\t',encoding='euc-kr')\n",
        "foreigner_card = pd.read_csv(foreigner[0],sep = '\t',encoding='euc-kr')"
      ],
      "execution_count": 140,
      "outputs": []
    },
    {
      "cell_type": "code",
      "metadata": {
        "id": "VUI5UwLKiiJg",
        "colab_type": "code",
        "colab": {}
      },
      "source": [
        "resident_card\n",
        "# 모든 변수 일별로,동별로 집계해주면 될 듯...\n",
        "# 평균연령, 남여비, median cnt, median amt, MCT_CAT_CD\n",
        "resident_card.groupby([resident_card['STD_DD'],resident_card['DONG_CD']]).median()\n",
        "\n",
        "def get_sex_ratio(x):\n",
        "  #남/여\n",
        "  result = sum(x=='M')/sum(x=='F')\n",
        "  return result\n",
        "\n",
        "def get_cat(x):\n",
        "  #최빈값\n",
        "  result = x.value_counts().index[0]\n",
        "  return result\n",
        "\n",
        "resident_card_time_domain = resident_card.groupby([resident_card['STD_DD'],resident_card['DONG_CD']]).agg(\n",
        "                                                  {'SEX_CD' : get_sex_ratio, \n",
        "                                                  'MCT_CAT_CD' :get_cat,\n",
        "                                                  'AGE_CD' : np.median,\n",
        "                                                  'USE_CNT':np.median,\n",
        "                                                  'USE_AMT': np.median})\n",
        "resident_card_time_domain = resident_card_time_domain.reset_index()"
      ],
      "execution_count": 175,
      "outputs": []
    },
    {
      "cell_type": "code",
      "metadata": {
        "id": "Yhfm2nKZtWZh",
        "colab_type": "code",
        "colab": {}
      },
      "source": [
        "# 동이름 string으로 디코딩\n",
        "name = pd.read_excel('/content/drive/My Drive/bigcon/행정동코드.xlsx')\n",
        "name_dict ={}\n",
        "for i,j in zip(name['행정동코드'],name['행정동명']):\n",
        "  name_dict[i] = j\n",
        "resident_card_time_domain[['DONG_CD']] = resident_card_time_domain[['DONG_CD']].applymap(name_dict.get)"
      ],
      "execution_count": 231,
      "outputs": []
    },
    {
      "cell_type": "code",
      "metadata": {
        "id": "3oitkoesyXKN",
        "colab_type": "code",
        "colab": {}
      },
      "source": [
        "#19년도\n",
        "#47개 지역,120일\n",
        "nine_card = resident_card_time_domain[:120*47]\n",
        "\n",
        "#20년도\n",
        "#47개지역, 121일\n",
        "two_card = resident_card_time_domain[120*47:]"
      ],
      "execution_count": 236,
      "outputs": []
    },
    {
      "cell_type": "markdown",
      "metadata": {
        "id": "1NehgK1M0_I8",
        "colab_type": "text"
      },
      "source": [
        "## 통합"
      ]
    },
    {
      "cell_type": "code",
      "metadata": {
        "id": "mPV1y5Us1BES",
        "colab_type": "code",
        "colab": {}
      },
      "source": [
        "#38개 지역,120일에 대해서\n",
        "nine_pop_retail_card = pd.merge(nine_pop_retail,nine_card, left_on =['HDONG_NM','STD_YMD'],right_on=['DONG_CD','STD_DD'])\n",
        "nine_pop_retail_card.to_csv(\"/content/drive/My Drive/bigcon/nine_pop_retail_card.csv\")\n",
        "\n",
        "#38개 지역,121일에 대해서\n",
        "two_pop_retail_card = pd.merge(two_pop_retail,two_card, left_on =['HDONG_NM','STD_YMD'],right_on=['DONG_CD','STD_DD'])\n",
        "two_pop_retail_card.to_csv(\"/content/drive/My Drive/bigcon/two_pop_retail_card.csv\")"
      ],
      "execution_count": 308,
      "outputs": []
    },
    {
      "cell_type": "code",
      "metadata": {
        "id": "bWMy-oaI2OR5",
        "colab_type": "code",
        "colab": {
          "base_uri": "https://localhost:8080/",
          "height": 73
        },
        "outputId": "560c8bfa-7f33-4495-a090-166012315759"
      },
      "source": [
        "#서울 15개 지역\n",
        "#대구 23개 지역\n",
        "nine_pop_retail_card['PVN'].value_counts()/120"
      ],
      "execution_count": 255,
      "outputs": [
        {
          "output_type": "execute_result",
          "data": {
            "text/plain": [
              "대구광역시    23.0\n",
              "서울특별시    15.0\n",
              "Name: PVN, dtype: float64"
            ]
          },
          "metadata": {
            "tags": []
          },
          "execution_count": 255
        }
      ]
    },
    {
      "cell_type": "markdown",
      "metadata": {
        "id": "ZYNinv1Z6t1X",
        "colab_type": "text"
      },
      "source": [
        "# 물류 데이터"
      ]
    },
    {
      "cell_type": "code",
      "metadata": {
        "id": "aaK4LA_66tQy",
        "colab_type": "code",
        "colab": {}
      },
      "source": [
        "logistics = pd.read_excel('./05_물류데이터(CJ올리브네트웍스)/2020 빅콘테스트_CJ올리브네트웍스_제공DB.xlsx')"
      ],
      "execution_count": 262,
      "outputs": []
    },
    {
      "cell_type": "code",
      "metadata": {
        "id": "B8x-GyEi7eWt",
        "colab_type": "code",
        "colab": {}
      },
      "source": [
        "logistics_reduce = logistics[['DL_YMD','DL_GD_LCLS_NM','HDNG_NM','INVC_CONT']]\n",
        "#코드는 다버리고, 동이름만 남기고, 물건종류는 더미변수로 해서 sum으로 reduce,송장건수도 sum\n",
        "logistics_reduce = logistics_reduce.join(pd.get_dummies(logistics_reduce['DL_GD_LCLS_NM']))\n",
        "del logistics_reduce['DL_GD_LCLS_NM']\n",
        "logistics_reduce = logistics_reduce.groupby([logistics_reduce['DL_YMD'],logistics_reduce['HDNG_NM']]).sum()\n",
        "del logistics_reduce['DL_YMD']\n",
        "logistics_reduce = logistics_reduce.reset_index()\n",
        "#날짜 인코딩 형식 맞춰주기\n",
        "logistics_reduce['DL_YMD'] = [int('20' + str(x)) for x in logistics_reduce['DL_YMD']]"
      ],
      "execution_count": 305,
      "outputs": []
    },
    {
      "cell_type": "code",
      "metadata": {
        "id": "jbAibNPs_cOo",
        "colab_type": "code",
        "colab": {}
      },
      "source": [
        "#19년도\n",
        "# 일자별로 해당지역에 물류이동이 없는 경우 발생..\n",
        "nine_without_sns = pd.merge(nine_pop_retail_card,logistics_reduce, left_on =['HDONG_NM','STD_YMD'],right_on=['HDNG_NM','DL_YMD'])\n",
        "#20년도\n",
        "two_without_sns = pd.merge(two_pop_retail_card,logistics_reduce, left_on =['HDONG_NM','STD_YMD'],right_on=['HDNG_NM','DL_YMD'])"
      ],
      "execution_count": 309,
      "outputs": []
    },
    {
      "cell_type": "code",
      "metadata": {
        "id": "wNRKpqwtC8eD",
        "colab_type": "code",
        "colab": {}
      },
      "source": [
        "nine_pop_retail_card.to_csv(\"/content/drive/My Drive/bigcon/nine_pop_retail_card.csv\")"
      ],
      "execution_count": null,
      "outputs": []
    },
    {
      "cell_type": "markdown",
      "metadata": {
        "id": "kCorKlrwIftd",
        "colab_type": "text"
      },
      "source": [
        "1. 지역별 특성값을 일별로 산출하기\n",
        "  - 유동인구 + sns + 물류 +유통\n",
        "  - 타임인덱스 기준으로 조인하기..\n",
        " \n",
        "\n",
        "2. 업종별 특성값을 일별로 산출하기\n",
        "  - 나머지 자료를 이용하여..."
      ]
    }
  ]
}